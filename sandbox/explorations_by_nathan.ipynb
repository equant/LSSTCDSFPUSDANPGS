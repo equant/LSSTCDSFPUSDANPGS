{
 "cells": [
  {
   "cell_type": "markdown",
   "metadata": {},
   "source": [
    "# Capsicum Germplasm Database"
   ]
  },
  {
   "cell_type": "code",
   "execution_count": 101,
   "metadata": {},
   "outputs": [],
   "source": [
    "import pandas as pd\n",
    "import numpy as np\n",
    "%matplotlib inline\n",
    "import matplotlib.pyplot as plt\n",
    "import seaborn as sns\n",
    "\n",
    "from time import time\n",
    "from matplotlib.pyplot import imshow\n",
    "from matplotlib.image import imread\n",
    "from sklearn.cluster import KMeans\n",
    "from sklearn.preprocessing import MinMaxScaler, StandardScaler\n",
    "from sklearn import metrics\n",
    "from sklearn.metrics.pairwise import euclidean_distances"
   ]
  },
  {
   "cell_type": "code",
   "execution_count": 2,
   "metadata": {},
   "outputs": [],
   "source": [
    "%qtconsole"
   ]
  },
  {
   "cell_type": "code",
   "execution_count": 53,
   "metadata": {},
   "outputs": [],
   "source": [
    "df = pd.read_csv(\"../data/capsicum_ml_600.csv\")\n",
    "df_full = pd.read_csv(\"../data/capsicum_full_600.csv\")"
   ]
  },
  {
   "cell_type": "code",
   "execution_count": 58,
   "metadata": {},
   "outputs": [
    {
     "name": "stdout",
     "output_type": "stream",
     "text": [
      "600\n"
     ]
    },
    {
     "data": {
      "text/html": [
       "<div>\n",
       "<style scoped>\n",
       "    .dataframe tbody tr th:only-of-type {\n",
       "        vertical-align: middle;\n",
       "    }\n",
       "\n",
       "    .dataframe tbody tr th {\n",
       "        vertical-align: top;\n",
       "    }\n",
       "\n",
       "    .dataframe thead th {\n",
       "        text-align: right;\n",
       "    }\n",
       "</style>\n",
       "<table border=\"1\" class=\"dataframe\">\n",
       "  <thead>\n",
       "    <tr style=\"text-align: right;\">\n",
       "      <th></th>\n",
       "      <th>id</th>\n",
       "      <th>url</th>\n",
       "      <th>plant_id</th>\n",
       "      <th>latin_name</th>\n",
       "      <th>phytophthora root rot</th>\n",
       "      <th>plant habit</th>\n",
       "      <th>anther color</th>\n",
       "      <th>blossom end shape</th>\n",
       "      <th>calyx margin</th>\n",
       "      <th>corolla color</th>\n",
       "      <th>...</th>\n",
       "      <th>corolla spots</th>\n",
       "      <th>flower angle</th>\n",
       "      <th>percent dry weight</th>\n",
       "      <th>beet curly top virus</th>\n",
       "      <th>alfalfa mosaic virus</th>\n",
       "      <th>dwarfism</th>\n",
       "      <th>bacterial leaf spot</th>\n",
       "      <th>cucumber mosiac virus</th>\n",
       "      <th>phytophthora</th>\n",
       "      <th>verticillium wilt</th>\n",
       "    </tr>\n",
       "  </thead>\n",
       "  <tbody>\n",
       "    <tr>\n",
       "      <th>0</th>\n",
       "      <td>1010454</td>\n",
       "      <td>https://npgsweb.ars-grin.gov/gringlobal/access...</td>\n",
       "      <td>Grif 972</td>\n",
       "      <td>Capsicum annuum L.</td>\n",
       "      <td>8.0</td>\n",
       "      <td>5.0</td>\n",
       "      <td>3.0</td>\n",
       "      <td>9.0</td>\n",
       "      <td>3.0</td>\n",
       "      <td>1.0</td>\n",
       "      <td>...</td>\n",
       "      <td>NaN</td>\n",
       "      <td>NaN</td>\n",
       "      <td>NaN</td>\n",
       "      <td>NaN</td>\n",
       "      <td>NaN</td>\n",
       "      <td>NaN</td>\n",
       "      <td>NaN</td>\n",
       "      <td>NaN</td>\n",
       "      <td>NaN</td>\n",
       "      <td>NaN</td>\n",
       "    </tr>\n",
       "    <tr>\n",
       "      <th>1</th>\n",
       "      <td>1010461</td>\n",
       "      <td>https://npgsweb.ars-grin.gov/gringlobal/access...</td>\n",
       "      <td>Grif 973</td>\n",
       "      <td>Capsicum annuum L.</td>\n",
       "      <td>9.0</td>\n",
       "      <td>5.0</td>\n",
       "      <td>3.0</td>\n",
       "      <td>9.0</td>\n",
       "      <td>5.0</td>\n",
       "      <td>1.0</td>\n",
       "      <td>...</td>\n",
       "      <td>NaN</td>\n",
       "      <td>NaN</td>\n",
       "      <td>NaN</td>\n",
       "      <td>NaN</td>\n",
       "      <td>NaN</td>\n",
       "      <td>NaN</td>\n",
       "      <td>NaN</td>\n",
       "      <td>NaN</td>\n",
       "      <td>NaN</td>\n",
       "      <td>NaN</td>\n",
       "    </tr>\n",
       "    <tr>\n",
       "      <th>2</th>\n",
       "      <td>1010468</td>\n",
       "      <td>https://npgsweb.ars-grin.gov/gringlobal/access...</td>\n",
       "      <td>PI 631126</td>\n",
       "      <td>Capsicum annuum L.</td>\n",
       "      <td>7.0</td>\n",
       "      <td>7.0</td>\n",
       "      <td>NaN</td>\n",
       "      <td>7.0</td>\n",
       "      <td>1.0</td>\n",
       "      <td>NaN</td>\n",
       "      <td>...</td>\n",
       "      <td>NaN</td>\n",
       "      <td>NaN</td>\n",
       "      <td>NaN</td>\n",
       "      <td>NaN</td>\n",
       "      <td>NaN</td>\n",
       "      <td>NaN</td>\n",
       "      <td>NaN</td>\n",
       "      <td>NaN</td>\n",
       "      <td>NaN</td>\n",
       "      <td>NaN</td>\n",
       "    </tr>\n",
       "    <tr>\n",
       "      <th>3</th>\n",
       "      <td>1010480</td>\n",
       "      <td>https://npgsweb.ars-grin.gov/gringlobal/access...</td>\n",
       "      <td>PI 631127</td>\n",
       "      <td>Capsicum annuum L.</td>\n",
       "      <td>9.0</td>\n",
       "      <td>5.0</td>\n",
       "      <td>3.0</td>\n",
       "      <td>9.0</td>\n",
       "      <td>3.0</td>\n",
       "      <td>1.0</td>\n",
       "      <td>...</td>\n",
       "      <td>NaN</td>\n",
       "      <td>NaN</td>\n",
       "      <td>NaN</td>\n",
       "      <td>NaN</td>\n",
       "      <td>NaN</td>\n",
       "      <td>NaN</td>\n",
       "      <td>NaN</td>\n",
       "      <td>NaN</td>\n",
       "      <td>NaN</td>\n",
       "      <td>NaN</td>\n",
       "    </tr>\n",
       "    <tr>\n",
       "      <th>4</th>\n",
       "      <td>1012450</td>\n",
       "      <td>https://npgsweb.ars-grin.gov/gringlobal/access...</td>\n",
       "      <td>PI 631128</td>\n",
       "      <td>Capsicum annuum L.</td>\n",
       "      <td>9.0</td>\n",
       "      <td>9.0</td>\n",
       "      <td>NaN</td>\n",
       "      <td>1.0</td>\n",
       "      <td>3.0</td>\n",
       "      <td>NaN</td>\n",
       "      <td>...</td>\n",
       "      <td>NaN</td>\n",
       "      <td>NaN</td>\n",
       "      <td>NaN</td>\n",
       "      <td>NaN</td>\n",
       "      <td>NaN</td>\n",
       "      <td>NaN</td>\n",
       "      <td>NaN</td>\n",
       "      <td>NaN</td>\n",
       "      <td>NaN</td>\n",
       "      <td>NaN</td>\n",
       "    </tr>\n",
       "  </tbody>\n",
       "</table>\n",
       "<p>5 rows × 68 columns</p>\n",
       "</div>"
      ],
      "text/plain": [
       "        id                                                url   plant_id  \\\n",
       "0  1010454  https://npgsweb.ars-grin.gov/gringlobal/access...   Grif 972   \n",
       "1  1010461  https://npgsweb.ars-grin.gov/gringlobal/access...   Grif 973   \n",
       "2  1010468  https://npgsweb.ars-grin.gov/gringlobal/access...  PI 631126   \n",
       "3  1010480  https://npgsweb.ars-grin.gov/gringlobal/access...  PI 631127   \n",
       "4  1012450  https://npgsweb.ars-grin.gov/gringlobal/access...  PI 631128   \n",
       "\n",
       "           latin_name  phytophthora root rot  plant habit  anther color  \\\n",
       "0  Capsicum annuum L.                    8.0          5.0           3.0   \n",
       "1  Capsicum annuum L.                    9.0          5.0           3.0   \n",
       "2  Capsicum annuum L.                    7.0          7.0           NaN   \n",
       "3  Capsicum annuum L.                    9.0          5.0           3.0   \n",
       "4  Capsicum annuum L.                    9.0          9.0           NaN   \n",
       "\n",
       "   blossom end shape  calyx margin  corolla color        ...          \\\n",
       "0                9.0           3.0            1.0        ...           \n",
       "1                9.0           5.0            1.0        ...           \n",
       "2                7.0           1.0            NaN        ...           \n",
       "3                9.0           3.0            1.0        ...           \n",
       "4                1.0           3.0            NaN        ...           \n",
       "\n",
       "   corolla spots  flower angle  percent dry weight  beet curly top virus  \\\n",
       "0            NaN           NaN                 NaN                   NaN   \n",
       "1            NaN           NaN                 NaN                   NaN   \n",
       "2            NaN           NaN                 NaN                   NaN   \n",
       "3            NaN           NaN                 NaN                   NaN   \n",
       "4            NaN           NaN                 NaN                   NaN   \n",
       "\n",
       "   alfalfa mosaic virus  dwarfism  bacterial leaf spot  cucumber mosiac virus  \\\n",
       "0                   NaN       NaN                  NaN                    NaN   \n",
       "1                   NaN       NaN                  NaN                    NaN   \n",
       "2                   NaN       NaN                  NaN                    NaN   \n",
       "3                   NaN       NaN                  NaN                    NaN   \n",
       "4                   NaN       NaN                  NaN                    NaN   \n",
       "\n",
       "   phytophthora  verticillium wilt  \n",
       "0           NaN                NaN  \n",
       "1           NaN                NaN  \n",
       "2           NaN                NaN  \n",
       "3           NaN                NaN  \n",
       "4           NaN                NaN  \n",
       "\n",
       "[5 rows x 68 columns]"
      ]
     },
     "execution_count": 58,
     "metadata": {},
     "output_type": "execute_result"
    }
   ],
   "source": [
    "print(len(df))\n",
    "df.head()"
   ]
  },
  {
   "cell_type": "markdown",
   "metadata": {},
   "source": [
    "## Features"
   ]
  },
  {
   "cell_type": "code",
   "execution_count": 65,
   "metadata": {},
   "outputs": [],
   "source": [
    "#for c in df.columns:\n",
    "    #print(df[c].head())\n",
    "xs = []\n",
    "ys = []\n",
    "\n",
    "#for limit in [200, 500, 1000, 1500, 2000, 2100, 2200, 2300, 2400, 2500, 2600, 2700, 2800]:\n",
    "for limit in range(100,600,10):\n",
    "    popular_columns = []\n",
    "\n",
    "    for c in df.columns:\n",
    "        valid_plants = df[c].dropna() \n",
    "        plant_count = valid_plants.shape[0]\n",
    "        #print(f\"{c:35} {count}\")\n",
    "        if plant_count > limit:\n",
    "            popular_columns.append(c)\n",
    "\n",
    "    trimmed_df = df[popular_columns].dropna(0)\n",
    "    x, y = trimmed_df.shape\n",
    "    xs.append(x)\n",
    "    ys.append(y)\n",
    "\n",
    "    #valid_values = df[c][df[c] != np.nan]"
   ]
  },
  {
   "cell_type": "code",
   "execution_count": 66,
   "metadata": {},
   "outputs": [
    {
     "data": {
      "image/png": "[encoded data removed]",
      "text/plain": [
       "<Figure size 432x288 with 1 Axes>"
      ]
     },
     "metadata": {
      "needs_background": "light"
     },
     "output_type": "display_data"
    }
   ],
   "source": [
    "fig, ax = plt.subplots()\n",
    "ax.scatter(xs,ys)\n",
    "ax.set_xlabel(\"n plants\")\n",
    "ax.set_ylabel(\"n features\")\n",
    "plt.show()"
   ]
  },
  {
   "cell_type": "code",
   "execution_count": 75,
   "metadata": {},
   "outputs": [
    {
     "name": "stdout",
     "output_type": "stream",
     "text": [
      "(335, 9)\n"
     ]
    }
   ],
   "source": [
    "## Do it all again, but for a specific limit...\n",
    "\n",
    "limit = 350\n",
    "\n",
    "popular_columns = []\n",
    "\n",
    "for c in df.columns:\n",
    "    valid_plants = df[c].dropna() \n",
    "    plant_count = valid_plants.shape[0]\n",
    "    #print(f\"{c:35} {count}\")\n",
    "    if plant_count > limit:\n",
    "        popular_columns.append(c)\n",
    "\n",
    "trimmed_df = df[popular_columns].dropna(0)\n",
    "print(trimmed_df.shape)"
   ]
  },
  {
   "cell_type": "code",
   "execution_count": 76,
   "metadata": {},
   "outputs": [
    {
     "name": "stdout",
     "output_type": "stream",
     "text": [
      "0    Capsicum annuum L.\n",
      "1    Capsicum annuum L.\n",
      "2    Capsicum annuum L.\n",
      "3    Capsicum annuum L.\n",
      "4    Capsicum annuum L.\n",
      "Name: latin_name, dtype: object\n",
      "\n",
      "--- UNIQUE LABELS ---\n",
      "Capsicum annuum L.\n",
      "Capsicum frutescens L.\n",
      "Capsicum chinense Jacq.\n",
      "Capsicum spp.\n",
      "Capsicum annuum L. var. glabriusculum (Dunal) Heiser & Pickersgill\n",
      "Capsicum baccatum L. var. pendulum (Willd.) Eshbaugh\n",
      "Capsicum baccatum L.\n",
      "Capsicum pubescens Ruiz & Pav.\n",
      "\n",
      "        id  filament color  fruit corkiness  leaf texture  mature fruit color  \\\n",
      "0  1010454             1.0              0.0           1.0                 2.0   \n",
      "1  1010461             1.0              0.0           1.0                 2.0   \n",
      "2  1010468             1.0              2.0           1.0                 2.0   \n",
      "3  1010480             1.0              0.0           1.0                 2.0   \n",
      "4  1012450             1.0              2.0           1.0                 2.0   \n",
      "\n",
      "   seed color  \n",
      "0         1.0  \n",
      "1         1.0  \n",
      "2         1.0  \n",
      "3         1.0  \n",
      "4         1.0  \n"
     ]
    }
   ],
   "source": [
    "labeled_data = trimmed_df['latin_name']\n",
    "print(labeled_data.head())\n",
    "print()\n",
    "print(\"--- UNIQUE LABELS ---\")\n",
    "print(\"\\n\".join(labeled_data.unique()))\n",
    "print()\n",
    "feature_data = trimmed_df.drop(['url', 'plant_id', 'latin_name'], axis=1)\n",
    "print(feature_data.head())"
   ]
  },
  {
   "cell_type": "code",
   "execution_count": 94,
   "metadata": {
    "scrolled": true
   },
   "outputs": [
    {
     "data": {
      "text/plain": [
       "<seaborn.axisgrid.PairGrid at 0x7f679d42a5f8>"
      ]
     },
     "execution_count": 94,
     "metadata": {},
     "output_type": "execute_result"
    },
    {
     "data": {
      "image/png": "[encoded data removed]",
      "text/plain": [
       "<Figure size 900x900 with 30 Axes>"
      ]
     },
     "metadata": {
      "needs_background": "light"
     },
     "output_type": "display_data"
    }
   ],
   "source": [
    "pp_data = feature_data.reset_index(drop=True).drop('id', 1)\n",
    "sns.pairplot(pp_data, hue=None, diag_kind='hist')"
   ]
  },
  {
   "cell_type": "code",
   "execution_count": 104,
   "metadata": {},
   "outputs": [
    {
     "data": {
      "text/plain": [
       "DBSCAN(algorithm='auto', eps=3, leaf_size=30, metric='euclidean',\n",
       "    metric_params=None, min_samples=2, n_jobs=None, p=None)"
      ]
     },
     "execution_count": 104,
     "metadata": {},
     "output_type": "execute_result"
    }
   ],
   "source": [
    "from sklearn.cluster import DBSCAN\n",
    "import numpy as np\n",
    "X = np.array([[1, 2], [2, 2], [2, 3], [8, 7], [8, 8], [25, 80]])\n",
    "clustering = DBSCAN(eps=3, min_samples=2).fit(X)\n",
    "clustering.labels_\n",
    "np.array([ 1,  0,  0,  1,  1, -1])\n",
    "clustering \n",
    "DBSCAN(algorithm='auto', eps=3, leaf_size=30, metric='euclidean',\n",
    "    metric_params=None, min_samples=2, n_jobs=None, p=None)"
   ]
  },
  {
   "cell_type": "code",
   "execution_count": 106,
   "metadata": {},
   "outputs": [
    {
     "name": "stdout",
     "output_type": "stream",
     "text": [
      "[-1 -1 -1 -1 -1 -1 -1 -1 -1 -1 -1 -1  0  0 -1 -1 -1 -1 -1 -1 -1 -1 -1 -1\n",
      " -1 -1 -1  1  1 -1 -1 -1 -1  2  2 -1 -1 -1 -1 -1  3  3 -1 -1 -1 -1 -1 -1\n",
      " -1 -1  4  4 -1 -1 -1 -1 -1 -1 -1 -1 -1 -1 -1 -1 -1 -1 -1 -1 -1 -1 -1 -1\n",
      " -1 -1 -1 -1 -1 -1 -1  5  5  6  6 -1 -1 -1 -1 -1  7  7 -1 -1 -1 -1 -1 -1\n",
      " -1 -1 -1  8  8  9  9 -1 -1 -1 -1 -1 -1 10 10 -1 -1 -1 11 11 12 12 -1 -1\n",
      " 13 13 -1 -1 -1 -1 -1 -1 -1 -1 -1 -1 -1 -1 -1 -1 -1 -1 -1 -1 -1 -1 -1 -1\n",
      " -1 -1 -1 -1 -1 -1 -1 -1 14 14 -1 -1 -1 -1 15 15 -1 -1 -1 -1 -1 16 16 -1\n",
      " 17 17 18 18 -1 19 19 -1 -1 -1 -1 -1 20 20 21 21 22 22 -1 -1 -1 -1 -1 -1\n",
      " -1 23 23 -1 -1 -1 -1 -1 24 24 -1 -1 -1 -1 -1 -1 -1 -1 -1 -1 25 25 -1 -1\n",
      " 26 26 -1 -1 -1 27 27 28 28 -1 -1 -1 -1 -1 29 29 -1 -1 -1 -1 -1 30 30 -1\n",
      " -1 -1 31 31 32 32 -1 -1 33 33 -1 34 34 -1 -1 -1 -1 -1 -1 -1 35 35 -1 -1\n",
      " -1 -1 -1 -1 -1 -1 36 36 -1 -1 -1 37 37 -1 -1 -1 38 38 39 39 40 40 -1 41\n",
      " 41 42 42 -1 -1 -1 -1 -1 43 43 -1 -1 -1 -1 -1 -1 -1 -1 -1 -1 -1 -1 -1 -1\n",
      " -1 -1 -1 -1 -1 -1 44 44 -1 -1 -1 -1 -1 -1 -1 -1 -1 -1 -1 -1 -1 -1 -1]\n",
      "DBSCAN(algorithm='auto', eps=3, leaf_size=30, metric='euclidean',\n",
      "    metric_params=None, min_samples=2, n_jobs=1, p=None)\n"
     ]
    }
   ],
   "source": [
    "from sklearn.cluster import DBSCAN\n",
    "\n",
    "clustering = DBSCAN(eps=3, min_samples=2).fit(feature_data)\n",
    "print(clustering.labels_)\n",
    "print(clustering)"
   ]
  },
  {
   "cell_type": "code",
   "execution_count": 110,
   "metadata": {},
   "outputs": [],
   "source": [
    "A = pd.DataFrame(clustering.labels_)\n",
    "B = pd.DataFrame(clustering.fit_predict(feature_data))\n",
    "\n",
    "A."
   ]
  }
 ],
 "metadata": {
  "kernelspec": {
   "display_name": "Python 3",
   "language": "python",
   "name": "python3"
  },
  "language_info": {
   "codemirror_mode": {
    "name": "ipython",
    "version": 3
   },
   "file_extension": ".py",
   "mimetype": "text/x-python",
   "name": "python",
   "nbconvert_exporter": "python",
   "pygments_lexer": "ipython3",
   "version": "3.6.6"
  }
 },
 "nbformat": 4,
 "nbformat_minor": 2
}
