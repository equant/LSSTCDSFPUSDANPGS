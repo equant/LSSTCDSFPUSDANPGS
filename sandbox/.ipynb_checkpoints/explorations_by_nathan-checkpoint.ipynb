{
 "cells": [
  {
   "cell_type": "markdown",
   "metadata": {},
   "source": [
    "# Capsicum Germplasm Database"
   ]
  },
  {
   "cell_type": "code",
   "execution_count": 1,
   "metadata": {},
   "outputs": [],
   "source": [
    "import pandas as pd\n",
    "import numpy as np\n",
    "%matplotlib inline\n",
    "import matplotlib.pyplot as plt\n"
   ]
  },
  {
   "cell_type": "code",
   "execution_count": 2,
   "metadata": {},
   "outputs": [],
   "source": [
    "%qtconsole"
   ]
  },
  {
   "cell_type": "code",
   "execution_count": 3,
   "metadata": {},
   "outputs": [],
   "source": [
    "df = pd.read_csv(\"../data/capsicum_ml_4868.csv\")"
   ]
  },
  {
   "cell_type": "markdown",
   "metadata": {},
   "source": [
    "## Features"
   ]
  },
  {
   "cell_type": "code",
   "execution_count": 133,
   "metadata": {},
   "outputs": [],
   "source": [
    "#for c in df.columns:\n",
    "    #print(df[c].head())\n",
    "xs = []\n",
    "ys = []\n",
    "\n",
    "for limit in [200, 500, 1000, 1500, 2000, 2100, 2200, 2300, 2400, 2500, 2600, 2700, 2800]:\n",
    "\n",
    "#for limit in [2100, 2200, 2300, 2400, 2500, 2600, 2700, 2800]:\n",
    "#for limit in [2100, 2200, 2300, 2400, 2500, 2600, 2700, 2800]:\n",
    "    popular_columns = []\n",
    "\n",
    "    for c in df.columns:\n",
    "        valid_values = df[c].dropna() \n",
    "        count = valid_values.shape[0]\n",
    "        #print(f\"{c:35} {count}\")\n",
    "        if count > limit:\n",
    "            popular_columns.append(c)\n",
    "\n",
    "        foo_df = df[popular_columns].dropna(0)\n",
    "        x, y = foo_df.shape\n",
    "        xs.append(x)\n",
    "        ys.append(y)\n",
    "\n",
    "    #valid_values = df[c][df[c] != np.nan]"
   ]
  },
  {
   "cell_type": "code",
   "execution_count": 134,
   "metadata": {},
   "outputs": [
    {
     "data": {
      "image/png": "[encoded data removed]",
      "text/plain": [
       "<Figure size 432x288 with 1 Axes>"
      ]
     },
     "metadata": {},
     "output_type": "display_data"
    }
   ],
   "source": [
    "fig, ax = plt.subplots()\n",
    "ax.scatter(xs,ys)\n",
    "ax.set_xlabel(\"n plants\")\n",
    "ax.set_ylabel(\"n features\")\n",
    "plt.show()"
   ]
  },
  {
   "cell_type": "code",
   "execution_count": null,
   "metadata": {
    "collapsed": true
   },
   "outputs": [],
   "source": []
  }
 ],
 "metadata": {
  "kernelspec": {
   "display_name": "Python 3",
   "language": "python",
   "name": "python3"
  },
  "language_info": {
   "codemirror_mode": {
    "name": "ipython",
    "version": 3
   },
   "file_extension": ".py",
   "mimetype": "text/x-python",
   "name": "python",
   "nbconvert_exporter": "python",
   "pygments_lexer": "ipython3",
   "version": "3.6.6"
  }
 },
 "nbformat": 4,
 "nbformat_minor": 2
}
