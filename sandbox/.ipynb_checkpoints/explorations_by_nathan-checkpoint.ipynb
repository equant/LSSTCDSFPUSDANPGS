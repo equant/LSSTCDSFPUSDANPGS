{
 "cells": [
  {
   "cell_type": "markdown",
   "metadata": {},
   "source": [
    "# Capsicum Germplasm Database"
   ]
  },
  {
   "cell_type": "code",
   "execution_count": 1,
   "metadata": {
    "collapsed": true
   },
   "outputs": [],
   "source": [
    "import pandas as pd\n",
    "import numpy as np\n",
    "%matplotlib inline\n",
    "import matplotlib.pyplot as plt\n",
    "import seaborn as sns\n",
    "\n",
    "from time import time\n",
    "from matplotlib.pyplot import imshow\n",
    "from matplotlib.image import imread\n",
    "from sklearn.cluster import KMeans\n",
    "from sklearn.preprocessing import MinMaxScaler, StandardScaler\n",
    "from sklearn import metrics\n",
    "from sklearn.metrics.pairwise import euclidean_distances"
   ]
  },
  {
   "cell_type": "code",
   "execution_count": 2,
   "metadata": {
    "collapsed": true
   },
   "outputs": [],
   "source": [
    "%qtconsole"
   ]
  },
  {
   "cell_type": "code",
   "execution_count": null,
   "metadata": {
    "collapsed": true
   },
   "outputs": [],
   "source": [
    "#df = pd.read_csv(\"../data/capsicum_ml_600.csv\")\n",
    "#df_full = pd.read_csv(\"../data/capsicum_full_600.csv\")\n",
    "#print(\"--- UNIQUE LABELS ---\")\n",
    "#print(\"\\n\".join(labeled_data.unique()))\n",
    "#print()\n"
   ]
  },
  {
   "cell_type": "code",
   "execution_count": null,
   "metadata": {
    "collapsed": true
   },
   "outputs": [],
   "source": [
    "df = pd.read_csv(\"../data/capsicum_ml_600.csv\")\n",
    "df_full = pd.read_csv(\"../data/capsicum_full_600.csv\")\n",
    "\n",
    "df = pd.read_csv(\"../data/capsicum_ml_4868.csv\")\n",
    "full_df = pd.read_csv(\"../data/capsicum_full_4868.csv\")\n",
    "full_df = full_df.set_index('id')"
   ]
  },
  {
   "cell_type": "code",
   "execution_count": null,
   "metadata": {
    "collapsed": true
   },
   "outputs": [],
   "source": [
    "print(\"--- UNIQUE LABELS ---\")\n",
    "print(\"\\n\".join(df['latin_name'].dropna().unique()))\n",
    "print()\n",
    "\n",
    "print(len(df))\n",
    "df.head()"
   ]
  },
  {
   "cell_type": "markdown",
   "metadata": {},
   "source": [
    "## Features"
   ]
  },
  {
   "cell_type": "code",
   "execution_count": null,
   "metadata": {
    "collapsed": true
   },
   "outputs": [],
   "source": [
    "#for c in df.columns:\n",
    "    #print(df[c].head())\n",
    "xs = []\n",
    "ys = []\n",
    "\n",
    "#for limit in range(100,600,10):\n",
    "for limit in range(100,4000,50):\n",
    "    popular_columns = []\n",
    "\n",
    "    for c in df.columns:\n",
    "        valid_plants = df[c].dropna() \n",
    "        plant_count = valid_plants.shape[0]\n",
    "        #print(f\"{c:35} {count}\")\n",
    "        if plant_count > limit:\n",
    "            popular_columns.append(c)\n",
    "\n",
    "    trimmed_df = df[popular_columns].dropna(0)\n",
    "    x, y = trimmed_df.shape\n",
    "    xs.append(x)\n",
    "    ys.append(y)\n",
    "\n",
    "    #valid_values = df[c][df[c] != np.nan]"
   ]
  },
  {
   "cell_type": "code",
   "execution_count": null,
   "metadata": {
    "collapsed": true
   },
   "outputs": [],
   "source": [
    "fig, ax = plt.subplots()\n",
    "ax.scatter(xs,ys)\n",
    "ax.set_xlabel(\"n plants\")\n",
    "ax.set_ylabel(\">n features\")\n",
    "plt.show()"
   ]
  },
  {
   "cell_type": "code",
   "execution_count": null,
   "metadata": {
    "collapsed": true
   },
   "outputs": [],
   "source": [
    "## Do it all again, but for a specific limit...\n",
    "\n",
    "limit = 2500\n",
    "\n",
    "popular_columns = []\n",
    "\n",
    "for c in df.columns:\n",
    "    valid_plants = df[c].dropna() \n",
    "    plant_count = valid_plants.shape[0]\n",
    "    #print(f\"{c:35} {count}\")\n",
    "    if plant_count > limit:\n",
    "        popular_columns.append(c)\n",
    "\n",
    "trimmed_df = df[popular_columns].dropna(0)"
   ]
  },
  {
   "cell_type": "code",
   "execution_count": null,
   "metadata": {
    "collapsed": true
   },
   "outputs": [],
   "source": [
    "labeled_data = trimmed_df['latin_name']\n",
    "feature_data = trimmed_df.drop(['url', 'plant_id', 'latin_name'], axis=1)\n",
    "\n",
    "print(feature_data.shape)\n",
    "\n",
    "print()\n",
    "print(\"--- UNIQUE LABELS ---\")\n",
    "print(\"\\n\".join(labeled_data.unique()))\n",
    "_cA = len(labeled_data.unique())\n",
    "_cB = len(df['latin_name'].unique())\n",
    "print()\n",
    "print(f\"{_cA} out of {_cB} labels\")\n",
    "print()\n",
    "print(feature_data.head())"
   ]
  },
  {
   "cell_type": "code",
   "execution_count": null,
   "metadata": {
    "collapsed": true,
    "scrolled": true
   },
   "outputs": [],
   "source": [
    "pp_data = feature_data.reset_index(drop=True).drop('id', 1)\n",
    "sns.pairplot(pp_data, hue=None, diag_kind='hist')"
   ]
  },
  {
   "cell_type": "code",
   "execution_count": null,
   "metadata": {
    "collapsed": true
   },
   "outputs": [],
   "source": []
  },
  {
   "cell_type": "code",
   "execution_count": null,
   "metadata": {
    "collapsed": true
   },
   "outputs": [],
   "source": [
    "from sklearn.cluster import DBSCAN\n",
    "\n",
    "clustering = DBSCAN(eps=1, min_samples=3).fit(pp_scaled)\n",
    "print(clustering.labels_)\n",
    "print(clustering)\n",
    "outlier_count = len(feature_data['id'][clustering.labels_ == -1])\n",
    "print(f\"n_outliers: {outlier_count}\")"
   ]
  },
  {
   "cell_type": "code",
   "execution_count": null,
   "metadata": {
    "collapsed": true
   },
   "outputs": [],
   "source": [
    "#from sklearn.cluster import DBSCAN\n",
    "#\n",
    "#clustering = DBSCAN(eps=3, min_samples=3).fit(pp_data)\n",
    "#print(clustering.labels_)\n",
    "#print(clustering)\n",
    "#outlier_count = len(feature_data['id'][clustering.labels_ == -1])\n",
    "#print(f\"n_outliers: {outlier_count}\")"
   ]
  },
  {
   "cell_type": "code",
   "execution_count": null,
   "metadata": {
    "collapsed": true
   },
   "outputs": [],
   "source": [
    "sns.pairplot(pp_data[clustering.labels_ == -1], hue=None, diag_kind='hist'c"
   ]
  }
 ],
 "metadata": {
  "kernelspec": {
   "display_name": "Python 3",
   "language": "python",
   "name": "python3"
  },
  "language_info": {
   "codemirror_mode": {
    "name": "ipython",
    "version": 3
   },
   "file_extension": ".py",
   "mimetype": "text/x-python",
   "name": "python",
   "nbconvert_exporter": "python",
   "pygments_lexer": "ipython3",
   "version": "3.6.3"
  }
 },
 "nbformat": 4,
 "nbformat_minor": 2
}
